{
 "cells": [
  {
   "cell_type": "code",
   "execution_count": 1,
   "metadata": {
    "collapsed": true
   },
   "outputs": [
    {
     "name": "stderr",
     "output_type": "stream",
     "text": [
      "/Users/Maxime/anaconda3/lib/python3.6/site-packages/sklearn/ensemble/weight_boosting.py:29: DeprecationWarning: numpy.core.umath_tests is an internal NumPy module and should not be imported. It will be removed in a future NumPy release.\n",
      "  from numpy.core.umath_tests import inner1d\n"
     ]
    }
   ],
   "source": [
    "import pandas as pd\n",
    "import numpy as np\n",
    "import matplotlib.pyplot as plt\n",
    "from Feature_Extraction import *\n",
    "from utils import *\n",
    "\n",
    "import os\n",
    "from os import listdir\n",
    "from os.path import isfile, join\n",
    "\n",
    "from sklearn.ensemble import RandomForestClassifier\n",
    "from sklearn.svm import SVC, LinearSVC\n",
    "from sklearn.metrics import accuracy_score\n",
    "from sklearn.preprocessing import MinMaxScaler, StandardScaler\n",
    "\n",
    "path = os.getcwd() + '/'\n",
    "path_images = path + 'data/FASSEG-frontal03/'\n",
    "sub_dir_original = 'Original/' # 'Original/' ou 'Train_RGB/'\n",
    "sub_dir_labeled = 'Labeled/' # 'Labeled/' ou 'Train_Labels/'"
   ]
  },
  {
   "cell_type": "markdown",
   "metadata": {},
   "source": [
    "# Loading dataset & preprocessing"
   ]
  },
  {
   "cell_type": "markdown",
   "metadata": {},
   "source": [
    "## Import raw images"
   ]
  },
  {
   "cell_type": "markdown",
   "metadata": {},
   "source": [
    "Importation of FASSEG dataset images (original images and labeled ones). Some images from the original dataset are removed in case dimensions of images and labels don't match."
   ]
  },
  {
   "cell_type": "code",
   "execution_count": 2,
   "metadata": {},
   "outputs": [
    {
     "name": "stdout",
     "output_type": "stream",
     "text": [
      "Removed 0 images from dataset, 10 images remaining.\n"
     ]
    }
   ],
   "source": [
    "dataset_size = 10 # Nb of images to take in dataset\n",
    "images, raw_labels, names = import_dataset(path_images,sub_dir_original,sub_dir_labeled,dataset_size)"
   ]
  },
  {
   "cell_type": "markdown",
   "metadata": {},
   "source": [
    "## Extract label"
   ]
  },
  {
   "cell_type": "markdown",
   "metadata": {},
   "source": [
    "Transformation of labeled color maps (from RGB to 1D)."
   ]
  },
  {
   "cell_type": "code",
   "execution_count": null,
   "metadata": {
    "scrolled": true
   },
   "outputs": [
    {
     "name": "stdout",
     "output_type": "stream",
     "text": [
      "Extracting labels :\n",
      "\n",
      "0 / 10\n",
      "1 / 10\n",
      "2 / 10\n"
     ]
    }
   ],
   "source": [
    "labels = extract_label(raw_labels)"
   ]
  },
  {
   "cell_type": "markdown",
   "metadata": {},
   "source": [
    "## Dataset visualisation"
   ]
  },
  {
   "cell_type": "code",
   "execution_count": null,
   "metadata": {
    "scrolled": false
   },
   "outputs": [],
   "source": [
    "plot_dataset(images,labels,names)"
   ]
  },
  {
   "cell_type": "markdown",
   "metadata": {},
   "source": [
    "# Tests"
   ]
  },
  {
   "cell_type": "raw",
   "metadata": {},
   "source": [
    "test = feat.corner_harris(image_bw, k=0.3, sigma=2)\n",
    "a, test = feat.hog(image_bw, visualize=True)"
   ]
  },
  {
   "cell_type": "code",
   "execution_count": null,
   "metadata": {
    "collapsed": true
   },
   "outputs": [],
   "source": [
    "import skimage.feature as feat\n",
    "from scipy.ndimage import filters\n",
    "image = images[3]\n",
    "image_bw = cv2.cvtColor(image, cv2.COLOR_RGB2GRAY)"
   ]
  },
  {
   "cell_type": "code",
   "execution_count": null,
   "metadata": {
    "collapsed": true
   },
   "outputs": [],
   "source": [
    "test = filters.minimum_filter(image_bw,size=50)"
   ]
  },
  {
   "cell_type": "code",
   "execution_count": null,
   "metadata": {},
   "outputs": [],
   "source": [
    "plt.figure(figsize=(12,6))\n",
    "    \n",
    "plt.subplot(1,2,1)\n",
    "plt.imshow(image)\n",
    "plt.title('Original')\n",
    "plt.axis('off')\n",
    "\n",
    "plt.subplot(1,2,2)\n",
    "plt.imshow(test)\n",
    "plt.title('Filtered')\n",
    "plt.axis('off')\n",
    "\n",
    "plt.show()"
   ]
  },
  {
   "cell_type": "markdown",
   "metadata": {},
   "source": [
    "# Feature extraction"
   ]
  },
  {
   "cell_type": "markdown",
   "metadata": {},
   "source": [
    "We computed features for each pixel of each image. They can be grouped in different categories :\n",
    "\n",
    "**No transformation** :\n",
    "\n",
    "   - Identity : The original image.\n",
    "   - Dimensions X and Y : Coordinates of each pixel.\n",
    "   \n",
    "**Segmentation** :\n",
    "\n",
    "   - SLIC : Segmentation using K-Means.\n",
    "   - RandomWalker : Segmentation using a set of markers.\n",
    "\n",
    "**Thresholding** :\n",
    "\n",
    "   - Otsu : Computing threshold value based on Otsu method.\n",
    "   - Isodata : Computing threshold value based on Isodata method.\n",
    "   - Li : Computing threshold value by Li’s iterative Minimum Cross Entropy method.\n",
    "   - Triangle : Computing threshold value based on the triangle algorithm.\n",
    "   - Yen : Computing threshold value based on Yen's method.\n",
    "\n",
    "**Edge detection** :\n",
    "\n",
    "   - CannyEdge : Edge detection, with canny method.\n",
    "   - Frangi : Frangi filter, to detect continuous edges.\n",
    "   - Hessian : Hybrid hessian filter, to detect continuous edges.\n",
    "   - Laplace : Edge detection, using Laplace operator.\n",
    "   - Prewitt : Finding edge magnitude with Prewitt transform.\n",
    "   - Roberts : Finding edge magnitude using Roberts cross operator.\n",
    "   - Scharr : Finding edge magnitude using the Scharr transform.\n",
    "   - Sobel : Edge detection using the Sobel filter."
   ]
  },
  {
   "cell_type": "markdown",
   "metadata": {},
   "source": [
    "## Calculation"
   ]
  },
  {
   "cell_type": "code",
   "execution_count": null,
   "metadata": {
    "collapsed": true
   },
   "outputs": [],
   "source": [
    "# List of features to extract\n",
    "\n",
    "no_transformation_functions = [Identity, DimensionX, DimensionY]\n",
    "\n",
    "segmentation_functions = [SLIC2, SLIC4, SLIC20, SLIC40, SLIC60, RandomWalker,\n",
    "                          FW_200_5, FW_150_5, FW_100_5, FW_200_10,FW_150_10, FW_100_10, \n",
    "                          FW_200_20, FW_150_20,FW_100_20, FW_200_5_UP]\n",
    "\n",
    "thresholding_functions = [Otsu, Isodata, Li, Triangle, Yen]\n",
    "\n",
    "pooling_functions = [Max_10, Max_20, Max_30, Min_10, Min_20, Min_30, Min_50]\n",
    "\n",
    "edges_functions = [Frangi, Hessian, Laplace, Prewitt, Roberts, Scharr, Sobel]\n",
    "\n",
    "edge_functions_notworking = [CannyEdge, PrewittH, PrewittV, RobertsNegDiag, RobertsPosDiag, \n",
    "                             ScharrH, ScharrV, SobelH, SobelV]\n",
    "\n",
    "feature_functions = no_transformation_functions + segmentation_functions + thresholding_functions + \\\n",
    "                    edges_functions + pooling_functions"
   ]
  },
  {
   "cell_type": "code",
   "execution_count": null,
   "metadata": {
    "scrolled": false
   },
   "outputs": [],
   "source": [
    "X = feature_extraction(images,feature_functions)"
   ]
  },
  {
   "cell_type": "markdown",
   "metadata": {},
   "source": [
    "## Visualisation"
   ]
  },
  {
   "cell_type": "code",
   "execution_count": null,
   "metadata": {},
   "outputs": [],
   "source": [
    "index_viz = 3 # Index of the image whose features will be plotted\n",
    "plot_features(images, index_viz, feature_functions, N_cols=8)"
   ]
  },
  {
   "cell_type": "markdown",
   "metadata": {},
   "source": [
    "# Target definition"
   ]
  },
  {
   "cell_type": "markdown",
   "metadata": {},
   "source": [
    "Each pixel is described by a label name among :\n",
    "\n",
    "   - Background\n",
    "   - Eyes\n",
    "   - Mouth\n",
    "   - Skin\n",
    "   - Nose\n",
    "   - Hair"
   ]
  },
  {
   "cell_type": "code",
   "execution_count": null,
   "metadata": {
    "collapsed": true
   },
   "outputs": [],
   "source": [
    "X = target_definition(X,images,labels)"
   ]
  },
  {
   "cell_type": "markdown",
   "metadata": {},
   "source": [
    "# Prediction"
   ]
  },
  {
   "cell_type": "markdown",
   "metadata": {},
   "source": [
    "## Train / Test split"
   ]
  },
  {
   "cell_type": "markdown",
   "metadata": {},
   "source": [
    "We use 80% of images for training and 20% for testing."
   ]
  },
  {
   "cell_type": "code",
   "execution_count": null,
   "metadata": {
    "collapsed": true
   },
   "outputs": [],
   "source": [
    "X_train, X_test, y_train, y_test, y_train_label, y_test_label, \\\n",
    "train_ids, test_ids, y_train_imageids, y_test_imageids, features = \\\n",
    "train_test_split(X,ratio=0.8)"
   ]
  },
  {
   "cell_type": "markdown",
   "metadata": {},
   "source": [
    "## Scaler"
   ]
  },
  {
   "cell_type": "raw",
   "metadata": {},
   "source": [
    "#scaler = MinMaxScaler()\n",
    "scaler = StandardScaler()\n",
    "\n",
    "scaler.fit(X_train)\n",
    "X_train_scaled = scaler.transform(X_train)\n",
    "X_test_scaled = scaler.transform(X_test)"
   ]
  },
  {
   "cell_type": "markdown",
   "metadata": {},
   "source": [
    "## Training"
   ]
  },
  {
   "cell_type": "code",
   "execution_count": null,
   "metadata": {
    "collapsed": true
   },
   "outputs": [],
   "source": [
    "model = RandomForestClassifier(n_jobs=-1, max_depth=10, n_estimators=20, criterion='gini', min_samples_leaf=0.01)\n",
    "grid_search = False\n",
    "params = {'n_estimators' : [10,20],\n",
    "          'max_depth' : [5,10,20],\n",
    "          'criterion' : ['gini','entropy'],\n",
    "          'min_samples_split' : [2]}\n",
    "\n",
    "model = train(X_train, y_train_label, model, grid_search, params)"
   ]
  },
  {
   "cell_type": "markdown",
   "metadata": {},
   "source": [
    "## Prediction"
   ]
  },
  {
   "cell_type": "code",
   "execution_count": null,
   "metadata": {},
   "outputs": [],
   "source": [
    "y_pred_label = model.predict(X_test)\n",
    "y_pred_label_train = model.predict(X_train)\n",
    "\n",
    "print('Accuracy on train set ({} images) : {:.3f}'.format(len(train_ids),accuracy_score(y_train_label,y_pred_label_train)))\n",
    "print('Accuracy on test set ({} images) : {:.3f}'.format(len(test_ids),accuracy_score(y_test_label,y_pred_label)))"
   ]
  },
  {
   "cell_type": "code",
   "execution_count": null,
   "metadata": {},
   "outputs": [],
   "source": [
    "plot_confusion_matrix(model, y_true=y_test_label, y_pred=y_pred_label, normalize=True)"
   ]
  },
  {
   "cell_type": "markdown",
   "metadata": {},
   "source": [
    "## Visualisation of predictions"
   ]
  },
  {
   "cell_type": "markdown",
   "metadata": {},
   "source": [
    "The model previously tarined is then used to predict labels for each image in the dataset."
   ]
  },
  {
   "cell_type": "code",
   "execution_count": null,
   "metadata": {
    "scrolled": false
   },
   "outputs": [],
   "source": [
    "plot_predictions(images, X_train, X_test, y_train, y_test, y_train_label, y_test_label, \n",
    "                     y_pred_label_train, y_pred_label, train_ids, test_ids, y_train_imageids, y_test_imageids)"
   ]
  },
  {
   "cell_type": "markdown",
   "metadata": {},
   "source": [
    "## Feature importance"
   ]
  },
  {
   "cell_type": "code",
   "execution_count": null,
   "metadata": {},
   "outputs": [],
   "source": [
    "plot_feature_importance(model, features, max_features=None)"
   ]
  },
  {
   "cell_type": "code",
   "execution_count": null,
   "metadata": {
    "collapsed": true
   },
   "outputs": [],
   "source": []
  }
 ],
 "metadata": {
  "kernelspec": {
   "display_name": "Python 3",
   "language": "python",
   "name": "python3"
  },
  "language_info": {
   "codemirror_mode": {
    "name": "ipython",
    "version": 3
   },
   "file_extension": ".py",
   "mimetype": "text/x-python",
   "name": "python",
   "nbconvert_exporter": "python",
   "pygments_lexer": "ipython3",
   "version": "3.6.0"
  },
  "toc": {
   "base_numbering": 1,
   "nav_menu": {},
   "number_sections": true,
   "sideBar": true,
   "skip_h1_title": false,
   "title_cell": "Table of Contents",
   "title_sidebar": "Contents",
   "toc_cell": false,
   "toc_position": {},
   "toc_section_display": true,
   "toc_window_display": false
  }
 },
 "nbformat": 4,
 "nbformat_minor": 2
}
